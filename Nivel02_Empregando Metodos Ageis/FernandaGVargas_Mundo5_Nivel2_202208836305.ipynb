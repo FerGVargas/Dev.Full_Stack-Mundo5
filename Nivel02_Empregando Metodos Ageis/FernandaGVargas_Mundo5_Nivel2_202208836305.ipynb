{
  "nbformat": 4,
  "nbformat_minor": 0,
  "metadata": {
    "colab": {
      "provenance": []
    },
    "kernelspec": {
      "name": "python3",
      "display_name": "Python 3"
    },
    "language_info": {
      "name": "python"
    }
  },
  "cells": [
    {
      "cell_type": "markdown",
      "source": [
        "![logo_estacio3.png](data:image/png;base64,iVBORw0KGgoAAAANSUhEUgAAAQgAAAC/CAMAAAA1kLK0AAAA/FBMVEX///8AAAB0yKZOvdhPqq2z4sL///6kpKQrKyvq6upubm6ZmZleXl6GhoZUVFT9//+AgIDKysrS0tLDw8Pi4uKw4b+04cPw8PDY2NhsxaKTk5P29vaurq5AQEBBpahPvNm3t7czMzM5OTne7+iz19bw+/qysrJzc3MUFBRISEienp4iIiJMv9dSUlIPDw95eXnC5M7U7N2d1r3A5czD5deFzLCO0OHS7PHH4OPg8vO94umDzd2fzc3v+vtiv9McHBx/yKzr9+2w3cqm4bjU6N6Z1Lu84NHV79yq2+mGwMN0u7lktK17wLxCvM2h1+ar0tImnZvW7+2Dy+JpxdM3R/2mAAAPyklEQVR4nO2cC0PiOBeGI0gcFa0XihfUgojjpaOgo4IKDqyOl2/H2XH//3/5kvR20qRJRVyg5d1xdwbStHl6cnLOSWYRGq4MoiE/wkQjIkx+jGq9d9GrUsMY9uMMTwREo2iaxY2NjYcaQTHs5xmiHk3TzNUzmczGRnXYzzIsYUw55IgeM1SERGpNwuHggmAk0oni0SwyEI2MqzTODhxwMLs/Mr5NpG96GMRPeiAuMoBEmkT9ZMPFQEE8ZACJNPkJMC8oiNJZJlDKZkfdBCBwL8OTSIkwwnUzF8hEvY10kqB+MuBQNNFPDkQ6SNA8i/jJIgfiOw8iFSS49cKZGUV0HwKRjlW0DueFHETiSWB+3XRBnKNqGEQKZofAIQJE0knUzVxYZh3VJCASTILMi+8CBgLiUQ4iyX6iYYoGkTMbyJCCSKxNkHjSix8gEAICyUAkt3pX/8t0lYMBlXmPkIxDYmdHqdutNhqNx3r9/LxIUJAfBwsZ7Y9UkYAycK3WJWQomi5CD3QiBAqRSE9ajun2Tq1Wq1bvv//82eudPVxQG/mRCpsIZNCA0/2tUXJx9HoPF4mbHXSXFzN5n7i/wdgg84OY/n3vzLECyfxIzuxwR01YEPt3PGajQVwm8ZcmWUjNGkK9DekCmjCPiZ2Vggw8Z/pioQRdOnJFAuqngkOCSBAAOVlM6YiCCFdmkkkCh/NNEYRQkEgkCSOnJHFOmsjy8OSRqEXOivggxpqEt1hqQNRRHBDjfGrAA9EVilKci3gkTaQFCU4X4xxPGA2DPnlXaREMhLQgwdnDGfm5H/aA+hFNH+pFPYgiLUfEANEbVz9BENTNIjYIkKpyalAQOKogEYD4mRlXErieM4lF0CBBOTVigvieGUcSJLsi84IMsubs8CmnBhvbhQ5Ew81Fx81PGM5+lh5EzuzSeaQFUb3YGDsSzE+yOq1jEZK9DGgRDMSDNsb2WozR7MAIf3f8o9mNAYIduT3Tgaj5ZyjGh4RheOdhHBDn6qnBQPTigyD+YtgjjCNahar72xfs5amTT5MFi1oQBihZjImfAOeCyNKINSCKRRaJqyszZOxci/GYHXXwtu8ZiKICRZHEGqSRpjJDQHAtRp4EjR+g2dM8AqtdRBFRH6GrzGRCLcjsGO38y+DPyz1S16kvRxj6PDyMapT9BHbyCwiiTgapLkeY8UBcCC1GeHYE8QMYpaHJwikr0khXkHhA3TE6Z8X5B9fudSBYgcowdCDOJKhGdnYYYgh5jnV1GdOJjjQFiY2ezGZGkgQ7VyycEyuyckQMEPKjIhCEDNUoksBImBcUhGHokk9WqUMoo97r+ik/TDKKfkJahyqSiLvBDsg4uYfp/PJULJ4X3aFc/ABbwOKAv0ecqvkxctEElhhEjhUkHr3jQjSMPD8/rz8+0tMh3W6txnbJ3Q7YAYlu9Z4dCTh7uLj4EWyNszxLeqqGEhotdV1Ld7d32esmIqkl3f2uOuPGkgtdEuJX3lmJBiFzVmWnajLw0ACzm42HTx7XO0UWSfLG/ffNhk3eNx6o4dJTBYHNUKMhVnMxyDsMQtedzs3l69P19dVVq9Vu1zwEA0IR/EUvYidrrVaz2dz7ffv8Mv2/UXMSV5adzVrkH/qLyrY6NzeXVxg7aIh9IIz9czPOf9m/vJGw0r8/RXzXUWq3W3+aJYSaz3+/vEwT7Xiif3j5z0eqkfHLcgkEsizrGmGb4rEJpg4l4xpNu22wUj84TuR0U2u3yLjZ634Oxv1PG6FbNvCQdn4PabyRwq921g6TyGafMGJIqIm4P1mXmG0zMlfO9d64d7j37Y+XmM2eFER7uMOWqEYGGCZhZZ8QFgyFb/KEmCPZkQ0zGC+Sg9jZG7myBEY1W7AIy35FhpJDNvvqXK/kMD1NWjTFJju3kmV32DJwm7lIfpiXuC2ZMED2JbvY6AcE4TCaf22YjDk0O6wbPQh27LatBkHXhla4yUjaAxXG7V9hh3CDWhoQb4hakzBKPQhqDyPnIVzR1w9RWNl/0R8lh6zdYRdqQDyTNiGjYRxGVoSEzc2ODrqKBeKPGsQtacO7kZGdF47I2tGxoMe00bV6+czabDySJYEfdQgEs4dRJkE9Jown9CCyNL7UgWDxI2gy2vOCiXjMjm8RhImhAWFn2U6XNGwMxr1Hux4rDnRQMJ6w2k+aVSPbppGlNJEIBt6kPb+MFQcqahO2B+JVPTFs690gxoYDsYmOl4tnW5dqEFmrRUE8q0H8oX7xGXAYDxJ0FXVSTALiRsPBvmIgVBymd1q01+fxsgcmz2Pa1tWb2kdkHRAvahAs2b51OYz2qsnLjyes644GRPaaglByICCoEVA/4kQUwx7eu+TGE9cdDQcKAutAsCSTLLFjZg9ULJ6gdZesLrJ8oiDUEfYOckBQDqOZeKtESGRt+1JjEbb1Suu2+nIEws1/boc9pj5V62StG52vtC4psxggUHOs1gsgg5Cwtb4yGwPECzvNWxqf+EFQW1ra5vWGtXWZ57FzkSEZjsdUq6MvR4w9CESr/HZWLG9zIHAqQBg1W7OAWtjQ12XGHwTSzg7L0JYjficBBIsxVT6TgvgtlOp34N7f3rCHMCDVhP0OTm1M0gg47pe/n29vf+81m2wXnfaQCINAiNUnHBIkAbFslqMHW8EERPN2zxm3GCew/Z+xjR/Ccvc7yOA7nZu34EAJG19yhqkVZnkHYUEZUAh/iM3XnG9wUsw+noxah80DOissVzSG6LxdXrZIPtWsttqlsGGA4zQJEs3AJB6ToLlGaDpwlC/Pz8xRUo8hcRkJUFQ8wUDI185/fidy3kSQoGdm5PHUCJ6HGYhwzV9FORCvSF6XIRwSaRCuxxTPF12imvScGI0nE0qCeUzBXV5K6zJJnReOnHgiBOJNPBWUdA4G9ZgCiTdJgWonKXlWtIR4wrbEckSy7cFVO1Tgl4BgHFJHwrLDdZlU2AMVycptDgRfl0kLB4P5icBl2lmDOybC/GQqSCA2O6zAR7QhiLTYgyMM/AQB8ZxWDojzmFbrhZ8XqRLNwLzZcfWSWntwdog9k7hKWfwQlp+BXafXHphYfYLqKd0cnHiChBP2a5rnBRO1CTtr36RzvYDCtRtC4l9ar22mJ5yU6+rG+rUzfVtLbFUurjA22PZFus2B/T+b2P+3KZGbWhNNNNFEE0000UQTTTTRRBNNNFFsrZfnF5a+zgnKr/fT26Z//Yy+8Ureu9daP/eimvfvt9lvF0z736YitdxPh0F/S/rGB17bvpgzzfn3y/fdB0Iz0RT6BbH4DhBfvaaFfu7kaBAgCl+UHD4dxKrXcrafG7kaAIiyGsOngyi57Q769g9UHwehnhb/AYi80+z4Qxw+DkLP4ZNBuAZZKfVzl0AfBbEaHvV/DWLNabT9QQ4fBTEbg8PngjhkbQ77uQWnD4I4DI357tvp5vz8Eaf5vha1mCCcmbnYzx145f37fevj6n2Ownb5I+tXSDFBfHRG+Fpf9tRPUHYCOWwN6pmY3hNQDV1bH/YE0RorEDCiHKw9jCCIUmG5vL9fXl0X45V1wCG22145mvu2Xfki08EK6/WE/SGYdQfe9yeu1529C19ZqVR2D7/ll7ZU83t29ejr4uEuf+8Dz5BPj91Pjuck1y4v7QZjPc5v8c5wAYBYjYdh5mBKIfZQ69HfeyAUXXyJSNoLm7vyC7wHVyyfpU3xqfMroMEx+CKe984LHQ4aBHlfK+J9Z+cim+tBRMTOed8q1sCnu7E4LMq79DUQEFNT5fB9VWmhDsRaOFQSL10Gn8WKxjY1AxgUiPACdqRqqwFRUF17JPa/EIODss9gAAMAwU/ULWVTNQjNrRyHtCR8otZSZH+eBgYCvhdFf1RqEMeKK/0nhjN+7mg+UpuFeJ3GBqE3LWgSFXVLJQjexy4ubW6ehvwcvZGmQBdoWXiPi6vrsxKxxy+x364FxdvTNe9732AFFVbKC3CN2/fHwqdDB6f7ywXxnhEgVuClW27L0hZMLKjtKUMCEQTwrXGirz4iS+CMg8FAOzxWRDsyENvBpRUQT5agVZDP43JwQYA1rPw5IMBgTryP4EtVJusSEPBaPk4ChOY/AiJOGNoPCOBevBcIot8vymslIE4jnxh4qbt3gwBFvTgJWj8gSuF7co5MnR5LQASXHke3Jh78nSCAs6x8EghU8S8q6wcTNTQPBHjtwi4gcHjl9zrLEmi/u6qtZcUBQRYLXsH7d5cNMFk0MZ8IAsxlIX0pwX4r7wOBIhOf3bl5MVHSgFhfiM4BqNwIj3tz7wQBFiGxBLELmsNUMr8QrSU3DuJWZUHzofxVCaKwreiJyU0DQBShKUWKIEAkLDYPBl/hyhFxQmxdEs5bhQpEjM0UFwRIoTW1dBFE8LgHYvMF8CVMur7GAQHzdpnKMUFosocIEBqvpAIh8bNg3nBpeLx6hC5JgNarAKFPWgZsERoQ3AuOtwM7q57bMPSOBjEfg4MHAnj+d4MAzl1sHgRbJ/yb2RfbSrWqrFIBNxEJoqS4XgABrFYTzooggA8UmweP94Uv3m7HBEE8xcrM5ql/viq/fQd6AWt9JAjOU24vcgryQhcEmIzz7wUBfKBoTUHEshhyWuXYJMIC5gvmRgAiVF4H+IWjY5UwCCTtWyYRhCoGAWEyfXlcRaL/fc9g0oO8KHJTFpxaE3oSQYDWaichggA+UNjqAC+POgWuGnjc90muwH4PgqgqeLA7vnUQ04k7MSIIYN/qLXNJ0hX0JqwFIKxlBjDFKRwcxlVgZ2DMYAbwTxE8nhi8iCBgXUx5gFICAixPIebATzlGzNfBSPv9Qh8wgm5BOAKegs/awY6V0JMIAs6NqTnFw0lAQIhc6FwQvxAzn5PKYX6Ok+7k7Vrw+AA83JThKgkgUP8W9ksSEHyGs7AexUJWqoNpIljQlmHRUgItUu44ZmQV7oUlGFiAd89FoRV6Dmd+k80RLp7aZl/4CpZiH0R4e+1ke24BXOOV2KUguNHdzdN98NJsmevQf+J3HCaL2IWFgt5A8jV76DiZBgShyXCU5fxwEHt3d8J/ANbk+McLtanz1Cm01QXx+0JcoBCE5l2pN3h0u7VwosU+cKoHwS0PklnngFgWvxAFQHxo77OivAvvo7SzIy6IUFFDNAl3Puv3DnkQShK63XBFIew47KtLX6MbU8UEcRrqFgl/80F0bJHiQKjelfZ8hGSKOpLVYArKlxQPhCTcCT+DH7vqM3EeBCpFPqD+oMi69MF3JedRmFY2IytxLoiK6sHnpMHGLI+iEPWFqKNwV6Ut+fOJIMRQfEUwwbkoDN7zrS+v7m/N8Dpynz/8uaut8vKKImFbWyl7Fx7xznQ5okPWVPqga+vL5dBF3sOhVf+jsuzSlaPTw2Oydp58WVya4V/a/wEHcux8S5usVwAAAABJRU5ErkJggg==)"
      ],
      "metadata": {
        "id": "TXlA8-N5-obg"
      }
    },
    {
      "cell_type": "markdown",
      "source": [
        "> **Campus:** Conceição - São Paulo/SP\n",
        ">\n",
        ">  **GRADUAÇÃO DESENVOLVIMENTO FULL STACK**\n",
        ">\n",
        "> **Disciplina:** Nível 2 - Empregando Metodos Ageis\n",
        ">\n",
        "> **Turma:** 2022.03 - Mundo 5\n",
        ">\n",
        "> **Aluna:** Fernanda G. Vargas\n",
        ">\n",
        "> **Matrícula:** 202208836305\n",
        ">\n",
        "> [![GitHub](https://img.shields.io/badge/GitHub-100000?style=for-the-badge&logo=github&logoColor=white)](https://github.com/FerGVargas)\n",
        "\n"
      ],
      "metadata": {
        "id": "zBpoj1ZC-r0y"
      }
    },
    {
      "cell_type": "markdown",
      "source": [
        ">### **Objetivos da prática**\n",
        ">\n",
        ">* Descrever um Backlog de Produto;\n",
        ">\n",
        ">* Descrever Histórias de Usuário de um Backlog de Produto;\n",
        ">\n",
        ">* Descrever a estimativa de esforço utilizando o Planning Poker;\n",
        ">\n",
        ">* Confeccionar uma Sprint Planning;\n",
        ">\n",
        ">* Descrever os Critérios de Aceitação para os itens de uma Sprint.\n",
        ">"
      ],
      "metadata": {
        "id": "RsXskHU2_BsP"
      }
    },
    {
      "cell_type": "markdown",
      "source": [
        ">## **Missão Prática | Empregando Métodos Ágeis 💻**\n",
        ">\n",
        "> [Clique aqui](https://github.com/FerGVargas/Dev.Full_Stack-Mundo5-Nivel1-/blob/main/Nivel01_Mudo5.pdf) para acessar a **Documentação do Projeto**.\n"
      ],
      "metadata": {
        "id": "0-WfL5Jf_h_j"
      }
    },
    {
      "cell_type": "markdown",
      "source": [
        ">## **Microatividade 1: Descrever Histórias de Usuário do Backlog de Produto.**\n",
        ">"
      ],
      "metadata": {
        "id": "bmNfF5DR_Pou"
      }
    },
    {
      "cell_type": "markdown",
      "source": [
        ">## **Microatividade 2: Descrever a estimativa de esforço utilizando o Planning Poker.**\n",
        ">"
      ],
      "metadata": {
        "id": "oz0GwNMs_hf3"
      }
    },
    {
      "cell_type": "markdown",
      "source": [
        ">## **Microatividade 3: Confeccionar uma Sprint Planning.**\n",
        ">"
      ],
      "metadata": {
        "id": "OS8nY1-H_h49"
      }
    },
    {
      "cell_type": "markdown",
      "source": [
        ">## **Microatividade 4: Descrever os Critérios de Aceitação para os itens de uma Sprint**\n",
        ">"
      ],
      "metadata": {
        "id": "UYhwnX9T_h8g"
      }
    }
  ]
}